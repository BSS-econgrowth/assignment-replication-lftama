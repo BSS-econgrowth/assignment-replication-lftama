{
 "cells": [
  {
   "cell_type": "markdown",
   "metadata": {},
   "source": [
    "# Replication Notebook for \"The Effect of Income on Religiousness\" by Thomas Busser"
   ]
  },
  {
   "cell_type": "markdown",
   "metadata": {},
   "source": [
    "Notebook made by Luis Fernando Tamayo Torres "
   ]
  },
  {
   "cell_type": "markdown",
   "metadata": {},
   "source": [
    "This notebook will give a brief summary of the paper The Effect of Income on Religiouness, by Thomas Busser. The following paper investigates how income affects religiousness. Using survey's data, the author estimates the effects of income variation over religion activities. It is found that there is a significant effect of income on religiousness."
   ]
  },
  {
   "cell_type": "code",
   "execution_count": 2,
   "metadata": {
    "scrolled": true
   },
   "outputs": [
    {
     "name": "stdout",
     "output_type": "stream",
     "text": [
      "Using matplotlib backend: MacOSX\n",
      "Populating the interactive namespace from numpy and matplotlib\n"
     ]
    }
   ],
   "source": [
    "# Let's import pandas and some other basic packages we will use \n",
    "from __future__ import division\n",
    "%pylab --no-import-all\n",
    "%matplotlib inline\n",
    "import numpy as np\n",
    "import pandas as pd\n",
    "import os\n",
    "from IPython.display import HTML, display\n",
    "from tabulate import tabulate\n",
    "\n",
    "pathout = './data/'\n",
    "\n",
    "if not os.path.exists(pathout):\n",
    "    os.mkdir(pathout)\n",
    "    \n",
    "pathgraphs = './graphs/'\n",
    "if not os.path.exists(pathgraphs):\n",
    "    os.mkdir(pathgraphs)\n",
    "\n"
   ]
  },
  {
   "cell_type": "markdown",
   "metadata": {},
   "source": [
    "In the following website, you can download the data used in this paper: https://www.openicpsr.org/openicpsr/project/116335/version/V1/view?path=/openicpsr/116335/fcr:versions/V1/Data/20140162_Data.dta&type=file"
   ]
  },
  {
   "cell_type": "markdown",
   "metadata": {},
   "source": [
    "Also, if needed, the research paper can be downloaded from the following website: https://pure.uva.nl/ws/files/2441834/164883_432379.pdf"
   ]
  },
  {
   "cell_type": "code",
   "execution_count": 16,
   "metadata": {},
   "outputs": [
    {
     "data": {
      "text/html": [
       "<div>\n",
       "<style scoped>\n",
       "    .dataframe tbody tr th:only-of-type {\n",
       "        vertical-align: middle;\n",
       "    }\n",
       "\n",
       "    .dataframe tbody tr th {\n",
       "        vertical-align: top;\n",
       "    }\n",
       "\n",
       "    .dataframe thead th {\n",
       "        text-align: right;\n",
       "    }\n",
       "</style>\n",
       "<table border=\"1\" class=\"dataframe\">\n",
       "  <thead>\n",
       "    <tr style=\"text-align: right;\">\n",
       "      <th></th>\n",
       "      <th>ciudad</th>\n",
       "      <th>parroqui</th>\n",
       "      <th>expenditures</th>\n",
       "      <th>j15_1</th>\n",
       "      <th>j15_2</th>\n",
       "      <th>j15_3</th>\n",
       "      <th>j15_4</th>\n",
       "      <th>j15_5</th>\n",
       "      <th>j15_6</th>\n",
       "      <th>j15_7</th>\n",
       "      <th>...</th>\n",
       "      <th>winnersvsalwayslosers</th>\n",
       "      <th>losersvsalwayswinners</th>\n",
       "      <th>group</th>\n",
       "      <th>householdsize</th>\n",
       "      <th>ageresponder</th>\n",
       "      <th>schooling_resp</th>\n",
       "      <th>protestant</th>\n",
       "      <th>attendance</th>\n",
       "      <th>attendpermonth</th>\n",
       "      <th>collect_2</th>\n",
       "    </tr>\n",
       "  </thead>\n",
       "  <tbody>\n",
       "    <tr>\n",
       "      <th>0</th>\n",
       "      <td>guayaquil</td>\n",
       "      <td>tarqui</td>\n",
       "      <td>280.0</td>\n",
       "      <td>no</td>\n",
       "      <td>no</td>\n",
       "      <td>no</td>\n",
       "      <td>no</td>\n",
       "      <td>no</td>\n",
       "      <td>no</td>\n",
       "      <td>no</td>\n",
       "      <td>...</td>\n",
       "      <td>1.0</td>\n",
       "      <td>NaN</td>\n",
       "      <td>winners</td>\n",
       "      <td>3</td>\n",
       "      <td>50</td>\n",
       "      <td>13.0</td>\n",
       "      <td>1.0</td>\n",
       "      <td>never</td>\n",
       "      <td>0.0</td>\n",
       "      <td>1.0</td>\n",
       "    </tr>\n",
       "    <tr>\n",
       "      <th>1</th>\n",
       "      <td>guayaquil</td>\n",
       "      <td>tarqui</td>\n",
       "      <td>200.0</td>\n",
       "      <td>no</td>\n",
       "      <td>no</td>\n",
       "      <td>no</td>\n",
       "      <td>no</td>\n",
       "      <td>no</td>\n",
       "      <td>no</td>\n",
       "      <td>no</td>\n",
       "      <td>...</td>\n",
       "      <td>1.0</td>\n",
       "      <td>NaN</td>\n",
       "      <td>winners</td>\n",
       "      <td>5</td>\n",
       "      <td>36</td>\n",
       "      <td>NaN</td>\n",
       "      <td>1.0</td>\n",
       "      <td>every day</td>\n",
       "      <td>30.0</td>\n",
       "      <td>1.0</td>\n",
       "    </tr>\n",
       "    <tr>\n",
       "      <th>2</th>\n",
       "      <td>guayaquil</td>\n",
       "      <td>pascuales</td>\n",
       "      <td>290.0</td>\n",
       "      <td>no</td>\n",
       "      <td>no</td>\n",
       "      <td>no</td>\n",
       "      <td>no</td>\n",
       "      <td>no</td>\n",
       "      <td>no</td>\n",
       "      <td>no</td>\n",
       "      <td>...</td>\n",
       "      <td>1.0</td>\n",
       "      <td>NaN</td>\n",
       "      <td>winners</td>\n",
       "      <td>7</td>\n",
       "      <td>33</td>\n",
       "      <td>10.0</td>\n",
       "      <td>1.0</td>\n",
       "      <td>every day</td>\n",
       "      <td>30.0</td>\n",
       "      <td>1.0</td>\n",
       "    </tr>\n",
       "    <tr>\n",
       "      <th>3</th>\n",
       "      <td>guayaquil</td>\n",
       "      <td>tarqui</td>\n",
       "      <td>160.0</td>\n",
       "      <td>no</td>\n",
       "      <td>no</td>\n",
       "      <td>no</td>\n",
       "      <td>no</td>\n",
       "      <td>no</td>\n",
       "      <td>no</td>\n",
       "      <td>no</td>\n",
       "      <td>...</td>\n",
       "      <td>1.0</td>\n",
       "      <td>NaN</td>\n",
       "      <td>winners</td>\n",
       "      <td>5</td>\n",
       "      <td>39</td>\n",
       "      <td>12.0</td>\n",
       "      <td>0.0</td>\n",
       "      <td>2 to 3 times a month</td>\n",
       "      <td>2.5</td>\n",
       "      <td>1.0</td>\n",
       "    </tr>\n",
       "    <tr>\n",
       "      <th>4</th>\n",
       "      <td>guayaquil</td>\n",
       "      <td>pascuales</td>\n",
       "      <td>200.0</td>\n",
       "      <td>no</td>\n",
       "      <td>no</td>\n",
       "      <td>no</td>\n",
       "      <td>no</td>\n",
       "      <td>no</td>\n",
       "      <td>no</td>\n",
       "      <td>no</td>\n",
       "      <td>...</td>\n",
       "      <td>1.0</td>\n",
       "      <td>NaN</td>\n",
       "      <td>winners</td>\n",
       "      <td>8</td>\n",
       "      <td>52</td>\n",
       "      <td>3.0</td>\n",
       "      <td>0.0</td>\n",
       "      <td>once a week</td>\n",
       "      <td>4.0</td>\n",
       "      <td>0.0</td>\n",
       "    </tr>\n",
       "    <tr>\n",
       "      <th>...</th>\n",
       "      <td>...</td>\n",
       "      <td>...</td>\n",
       "      <td>...</td>\n",
       "      <td>...</td>\n",
       "      <td>...</td>\n",
       "      <td>...</td>\n",
       "      <td>...</td>\n",
       "      <td>...</td>\n",
       "      <td>...</td>\n",
       "      <td>...</td>\n",
       "      <td>...</td>\n",
       "      <td>...</td>\n",
       "      <td>...</td>\n",
       "      <td>...</td>\n",
       "      <td>...</td>\n",
       "      <td>...</td>\n",
       "      <td>...</td>\n",
       "      <td>...</td>\n",
       "      <td>...</td>\n",
       "      <td>...</td>\n",
       "      <td>...</td>\n",
       "    </tr>\n",
       "    <tr>\n",
       "      <th>2640</th>\n",
       "      <td>guayaquil</td>\n",
       "      <td>pascuales</td>\n",
       "      <td>600.0</td>\n",
       "      <td>no</td>\n",
       "      <td>no</td>\n",
       "      <td>no</td>\n",
       "      <td>no</td>\n",
       "      <td>no</td>\n",
       "      <td>no</td>\n",
       "      <td>no</td>\n",
       "      <td>...</td>\n",
       "      <td>1.0</td>\n",
       "      <td>NaN</td>\n",
       "      <td>winners</td>\n",
       "      <td>4</td>\n",
       "      <td>58</td>\n",
       "      <td>6.0</td>\n",
       "      <td>0.0</td>\n",
       "      <td>only for special occasions</td>\n",
       "      <td>0.0</td>\n",
       "      <td>1.0</td>\n",
       "    </tr>\n",
       "    <tr>\n",
       "      <th>2641</th>\n",
       "      <td>guayaquil</td>\n",
       "      <td>ximena</td>\n",
       "      <td>300.0</td>\n",
       "      <td>no</td>\n",
       "      <td>no</td>\n",
       "      <td>no</td>\n",
       "      <td>no</td>\n",
       "      <td>yes</td>\n",
       "      <td>no</td>\n",
       "      <td>no</td>\n",
       "      <td>...</td>\n",
       "      <td>NaN</td>\n",
       "      <td>1.0</td>\n",
       "      <td>always-winners</td>\n",
       "      <td>5</td>\n",
       "      <td>35</td>\n",
       "      <td>6.0</td>\n",
       "      <td>0.0</td>\n",
       "      <td>only for special occasions</td>\n",
       "      <td>0.0</td>\n",
       "      <td>1.0</td>\n",
       "    </tr>\n",
       "    <tr>\n",
       "      <th>2642</th>\n",
       "      <td>guayaquil</td>\n",
       "      <td>pascuales</td>\n",
       "      <td>580.0</td>\n",
       "      <td>no</td>\n",
       "      <td>no</td>\n",
       "      <td>no</td>\n",
       "      <td>no</td>\n",
       "      <td>no</td>\n",
       "      <td>no</td>\n",
       "      <td>no</td>\n",
       "      <td>...</td>\n",
       "      <td>NaN</td>\n",
       "      <td>1.0</td>\n",
       "      <td>always-winners</td>\n",
       "      <td>5</td>\n",
       "      <td>30</td>\n",
       "      <td>12.0</td>\n",
       "      <td>0.0</td>\n",
       "      <td>2 to 3 times a month</td>\n",
       "      <td>2.5</td>\n",
       "      <td>1.0</td>\n",
       "    </tr>\n",
       "    <tr>\n",
       "      <th>2643</th>\n",
       "      <td>guayaquil</td>\n",
       "      <td>pascuales</td>\n",
       "      <td>250.0</td>\n",
       "      <td>no</td>\n",
       "      <td>no</td>\n",
       "      <td>no</td>\n",
       "      <td>no</td>\n",
       "      <td>no</td>\n",
       "      <td>no</td>\n",
       "      <td>no</td>\n",
       "      <td>...</td>\n",
       "      <td>1.0</td>\n",
       "      <td>NaN</td>\n",
       "      <td>winners</td>\n",
       "      <td>4</td>\n",
       "      <td>23</td>\n",
       "      <td>11.0</td>\n",
       "      <td>0.0</td>\n",
       "      <td>less than once a month</td>\n",
       "      <td>0.0</td>\n",
       "      <td>1.0</td>\n",
       "    </tr>\n",
       "    <tr>\n",
       "      <th>2644</th>\n",
       "      <td>guayaquil</td>\n",
       "      <td>tarqui</td>\n",
       "      <td>120.0</td>\n",
       "      <td>no</td>\n",
       "      <td>no</td>\n",
       "      <td>no</td>\n",
       "      <td>no</td>\n",
       "      <td>no</td>\n",
       "      <td>no</td>\n",
       "      <td>no</td>\n",
       "      <td>...</td>\n",
       "      <td>1.0</td>\n",
       "      <td>NaN</td>\n",
       "      <td>winners</td>\n",
       "      <td>3</td>\n",
       "      <td>40</td>\n",
       "      <td>9.0</td>\n",
       "      <td>0.0</td>\n",
       "      <td>less than once a month</td>\n",
       "      <td>0.0</td>\n",
       "      <td>1.0</td>\n",
       "    </tr>\n",
       "  </tbody>\n",
       "</table>\n",
       "<p>2645 rows × 37 columns</p>\n",
       "</div>"
      ],
      "text/plain": [
       "         ciudad   parroqui expenditures j15_1 j15_2 j15_3 j15_4 j15_5 j15_6  \\\n",
       "0     guayaquil     tarqui        280.0    no    no    no    no    no    no   \n",
       "1     guayaquil     tarqui        200.0    no    no    no    no    no    no   \n",
       "2     guayaquil  pascuales        290.0    no    no    no    no    no    no   \n",
       "3     guayaquil     tarqui        160.0    no    no    no    no    no    no   \n",
       "4     guayaquil  pascuales        200.0    no    no    no    no    no    no   \n",
       "...         ...        ...          ...   ...   ...   ...   ...   ...   ...   \n",
       "2640  guayaquil  pascuales        600.0    no    no    no    no    no    no   \n",
       "2641  guayaquil     ximena        300.0    no    no    no    no   yes    no   \n",
       "2642  guayaquil  pascuales        580.0    no    no    no    no    no    no   \n",
       "2643  guayaquil  pascuales        250.0    no    no    no    no    no    no   \n",
       "2644  guayaquil     tarqui        120.0    no    no    no    no    no    no   \n",
       "\n",
       "     j15_7  ... winnersvsalwayslosers losersvsalwayswinners           group  \\\n",
       "0       no  ...                   1.0                   NaN         winners   \n",
       "1       no  ...                   1.0                   NaN         winners   \n",
       "2       no  ...                   1.0                   NaN         winners   \n",
       "3       no  ...                   1.0                   NaN         winners   \n",
       "4       no  ...                   1.0                   NaN         winners   \n",
       "...    ...  ...                   ...                   ...             ...   \n",
       "2640    no  ...                   1.0                   NaN         winners   \n",
       "2641    no  ...                   NaN                   1.0  always-winners   \n",
       "2642    no  ...                   NaN                   1.0  always-winners   \n",
       "2643    no  ...                   1.0                   NaN         winners   \n",
       "2644    no  ...                   1.0                   NaN         winners   \n",
       "\n",
       "     householdsize ageresponder schooling_resp  protestant  \\\n",
       "0                3           50           13.0         1.0   \n",
       "1                5           36            NaN         1.0   \n",
       "2                7           33           10.0         1.0   \n",
       "3                5           39           12.0         0.0   \n",
       "4                8           52            3.0         0.0   \n",
       "...            ...          ...            ...         ...   \n",
       "2640             4           58            6.0         0.0   \n",
       "2641             5           35            6.0         0.0   \n",
       "2642             5           30           12.0         0.0   \n",
       "2643             4           23           11.0         0.0   \n",
       "2644             3           40            9.0         0.0   \n",
       "\n",
       "                      attendance  attendpermonth  collect_2  \n",
       "0                          never             0.0        1.0  \n",
       "1                      every day            30.0        1.0  \n",
       "2                      every day            30.0        1.0  \n",
       "3           2 to 3 times a month             2.5        1.0  \n",
       "4                    once a week             4.0        0.0  \n",
       "...                          ...             ...        ...  \n",
       "2640  only for special occasions             0.0        1.0  \n",
       "2641  only for special occasions             0.0        1.0  \n",
       "2642        2 to 3 times a month             2.5        1.0  \n",
       "2643      less than once a month             0.0        1.0  \n",
       "2644      less than once a month             0.0        1.0  \n",
       "\n",
       "[2645 rows x 37 columns]"
      ]
     },
     "execution_count": 16,
     "metadata": {},
     "output_type": "execute_result"
    }
   ],
   "source": [
    "#Let's upload the data that we are going to use in the investigation.\n",
    "#This file contains the data collected with the author's survey\n",
    "busser = pd.read_stata(pathout + '20140162_Data.dta')\n",
    "#busser = pd.read_stata('https://www.openicpsr.org/openicpsr/project/116335/version/V1/download/terms?path=/openicpsr/116335/fcr:versions/V1/Data/20140162_Data.dta&type=file')\n",
    "#https://www.openicpsr.org/openicpsr/project/116335/version/V1/download/file?filePath=/openicpsr/116335/fcr:versions/V1/Data/20140162_Data.dta')\n",
    "#busser.to_stata(pathout + 'busser.dta', write_index=False, version=117)\n",
    "busser"
   ]
  },
  {
   "cell_type": "code",
   "execution_count": 17,
   "metadata": {},
   "outputs": [
    {
     "data": {
      "text/html": [
       "<div>\n",
       "<style scoped>\n",
       "    .dataframe tbody tr th:only-of-type {\n",
       "        vertical-align: middle;\n",
       "    }\n",
       "\n",
       "    .dataframe tbody tr th {\n",
       "        vertical-align: top;\n",
       "    }\n",
       "\n",
       "    .dataframe thead th {\n",
       "        text-align: right;\n",
       "    }\n",
       "</style>\n",
       "<table border=\"1\" class=\"dataframe\">\n",
       "  <thead>\n",
       "    <tr style=\"text-align: right;\">\n",
       "      <th></th>\n",
       "      <th>area</th>\n",
       "      <th>ciudad</th>\n",
       "      <th>zona</th>\n",
       "      <th>sector</th>\n",
       "      <th>panelm</th>\n",
       "      <th>vivienda</th>\n",
       "      <th>hogar</th>\n",
       "      <th>p01</th>\n",
       "      <th>p02</th>\n",
       "      <th>p03</th>\n",
       "      <th>...</th>\n",
       "      <th>RE01B</th>\n",
       "      <th>RE01C</th>\n",
       "      <th>RE02</th>\n",
       "      <th>RE03</th>\n",
       "      <th>RE04A</th>\n",
       "      <th>RE04B</th>\n",
       "      <th>RE04C</th>\n",
       "      <th>RE05</th>\n",
       "      <th>fexp</th>\n",
       "      <th>Quintiles</th>\n",
       "    </tr>\n",
       "  </thead>\n",
       "  <tbody>\n",
       "    <tr>\n",
       "      <th>0</th>\n",
       "      <td>Urbana</td>\n",
       "      <td>cuenca</td>\n",
       "      <td>001</td>\n",
       "      <td>006</td>\n",
       "      <td>Panel W6</td>\n",
       "      <td>Vivienda Uno</td>\n",
       "      <td>Hogar Uno</td>\n",
       "      <td>Persona 1</td>\n",
       "      <td>Mujer</td>\n",
       "      <td>76</td>\n",
       "      <td>...</td>\n",
       "      <td>La salud</td>\n",
       "      <td>La religión</td>\n",
       "      <td>Cristiana Católica</td>\n",
       "      <td>7</td>\n",
       "      <td>En momentos de sufrimiento</td>\n",
       "      <td>Cuando necesita una ayuda específica</td>\n",
       "      <td>En momentos de felicidad</td>\n",
       "      <td>Una vez a la semana</td>\n",
       "      <td>136.920802</td>\n",
       "      <td>Quintil 3</td>\n",
       "    </tr>\n",
       "    <tr>\n",
       "      <th>1</th>\n",
       "      <td>Urbana</td>\n",
       "      <td>cuenca</td>\n",
       "      <td>001</td>\n",
       "      <td>006</td>\n",
       "      <td>Panel W6</td>\n",
       "      <td>Vivienda Uno</td>\n",
       "      <td>Hogar Uno</td>\n",
       "      <td>Persona 2</td>\n",
       "      <td>Mujer</td>\n",
       "      <td>34</td>\n",
       "      <td>...</td>\n",
       "      <td>La familia</td>\n",
       "      <td>El trabajo</td>\n",
       "      <td>Cristiana Católica</td>\n",
       "      <td>7</td>\n",
       "      <td>Cuando necesita una ayuda específica</td>\n",
       "      <td>Al reflexionar sobre el sentido de la vida</td>\n",
       "      <td>Para agradecer</td>\n",
       "      <td>Una vez al mes</td>\n",
       "      <td>136.920802</td>\n",
       "      <td>Quintil 3</td>\n",
       "    </tr>\n",
       "    <tr>\n",
       "      <th>2</th>\n",
       "      <td>Urbana</td>\n",
       "      <td>cuenca</td>\n",
       "      <td>001</td>\n",
       "      <td>006</td>\n",
       "      <td>Panel W6</td>\n",
       "      <td>Vivienda Uno</td>\n",
       "      <td>Hogar Uno</td>\n",
       "      <td>Persona 3</td>\n",
       "      <td>Hombre</td>\n",
       "      <td>35</td>\n",
       "      <td>...</td>\n",
       "      <td>La familia</td>\n",
       "      <td>El trabajo</td>\n",
       "      <td>Cristiana Católica</td>\n",
       "      <td>6</td>\n",
       "      <td>En momentos de sufrimiento</td>\n",
       "      <td>Durante los días de festividades religiosas</td>\n",
       "      <td>Para agradecer</td>\n",
       "      <td>Una vez al mes</td>\n",
       "      <td>136.920802</td>\n",
       "      <td>Quintil 3</td>\n",
       "    </tr>\n",
       "    <tr>\n",
       "      <th>3</th>\n",
       "      <td>Urbana</td>\n",
       "      <td>cuenca</td>\n",
       "      <td>001</td>\n",
       "      <td>006</td>\n",
       "      <td>Panel W6</td>\n",
       "      <td>Vivienda Uno</td>\n",
       "      <td>Hogar Uno</td>\n",
       "      <td>Persona 4</td>\n",
       "      <td>Hombre</td>\n",
       "      <td>0</td>\n",
       "      <td>...</td>\n",
       "      <td>NaN</td>\n",
       "      <td>NaN</td>\n",
       "      <td>NaN</td>\n",
       "      <td>NaN</td>\n",
       "      <td>NaN</td>\n",
       "      <td>NaN</td>\n",
       "      <td>NaN</td>\n",
       "      <td>NaN</td>\n",
       "      <td>136.920802</td>\n",
       "      <td>Quintil 3</td>\n",
       "    </tr>\n",
       "    <tr>\n",
       "      <th>4</th>\n",
       "      <td>Urbana</td>\n",
       "      <td>cuenca</td>\n",
       "      <td>001</td>\n",
       "      <td>006</td>\n",
       "      <td>Panel W6</td>\n",
       "      <td>Vivienda Dos</td>\n",
       "      <td>Hogar Uno</td>\n",
       "      <td>Persona 1</td>\n",
       "      <td>Hombre</td>\n",
       "      <td>40</td>\n",
       "      <td>...</td>\n",
       "      <td>La salud</td>\n",
       "      <td>El trabajo</td>\n",
       "      <td>Cristiana Católica</td>\n",
       "      <td>7</td>\n",
       "      <td>En momentos de sufrimiento</td>\n",
       "      <td>Cuando ora/reza por otras personas</td>\n",
       "      <td>Para agradecer</td>\n",
       "      <td>Una vez a la semana</td>\n",
       "      <td>136.920802</td>\n",
       "      <td>Quintil 5</td>\n",
       "    </tr>\n",
       "    <tr>\n",
       "      <th>...</th>\n",
       "      <td>...</td>\n",
       "      <td>...</td>\n",
       "      <td>...</td>\n",
       "      <td>...</td>\n",
       "      <td>...</td>\n",
       "      <td>...</td>\n",
       "      <td>...</td>\n",
       "      <td>...</td>\n",
       "      <td>...</td>\n",
       "      <td>...</td>\n",
       "      <td>...</td>\n",
       "      <td>...</td>\n",
       "      <td>...</td>\n",
       "      <td>...</td>\n",
       "      <td>...</td>\n",
       "      <td>...</td>\n",
       "      <td>...</td>\n",
       "      <td>...</td>\n",
       "      <td>...</td>\n",
       "      <td>...</td>\n",
       "      <td>...</td>\n",
       "    </tr>\n",
       "    <tr>\n",
       "      <th>13206</th>\n",
       "      <td>Urbana</td>\n",
       "      <td>ambato</td>\n",
       "      <td>035</td>\n",
       "      <td>009</td>\n",
       "      <td>Panel Z5</td>\n",
       "      <td>Vivienda Dos</td>\n",
       "      <td>Hogar Uno</td>\n",
       "      <td>Persona 2</td>\n",
       "      <td>Mujer</td>\n",
       "      <td>26</td>\n",
       "      <td>...</td>\n",
       "      <td>El conocimiento / información</td>\n",
       "      <td>La salud</td>\n",
       "      <td>Cristiana Católica</td>\n",
       "      <td>7</td>\n",
       "      <td>En momentos de sufrimiento</td>\n",
       "      <td>Cuando ora/reza por otras personas</td>\n",
       "      <td>Para agradecer</td>\n",
       "      <td>Más de una vez al mes</td>\n",
       "      <td>76.722182</td>\n",
       "      <td>Quintil 3</td>\n",
       "    </tr>\n",
       "    <tr>\n",
       "      <th>13207</th>\n",
       "      <td>Urbana</td>\n",
       "      <td>ambato</td>\n",
       "      <td>035</td>\n",
       "      <td>009</td>\n",
       "      <td>Panel Z5</td>\n",
       "      <td>Vivienda Dos</td>\n",
       "      <td>Hogar Uno</td>\n",
       "      <td>Persona 3</td>\n",
       "      <td>Hombre</td>\n",
       "      <td>6</td>\n",
       "      <td>...</td>\n",
       "      <td>NaN</td>\n",
       "      <td>NaN</td>\n",
       "      <td>NaN</td>\n",
       "      <td>NaN</td>\n",
       "      <td>NaN</td>\n",
       "      <td>NaN</td>\n",
       "      <td>NaN</td>\n",
       "      <td>NaN</td>\n",
       "      <td>76.722182</td>\n",
       "      <td>Quintil 3</td>\n",
       "    </tr>\n",
       "    <tr>\n",
       "      <th>13208</th>\n",
       "      <td>Urbana</td>\n",
       "      <td>ambato</td>\n",
       "      <td>035</td>\n",
       "      <td>009</td>\n",
       "      <td>Panel Z5</td>\n",
       "      <td>Vivienda Tres</td>\n",
       "      <td>Hogar Uno</td>\n",
       "      <td>Persona 1</td>\n",
       "      <td>Hombre</td>\n",
       "      <td>57</td>\n",
       "      <td>...</td>\n",
       "      <td>La familia</td>\n",
       "      <td>La salud</td>\n",
       "      <td>Cristiana Católica</td>\n",
       "      <td>8</td>\n",
       "      <td>Cuando ora/reza por otras personas</td>\n",
       "      <td>En momentos de sufrimiento</td>\n",
       "      <td>En momentos de felicidad</td>\n",
       "      <td>Una vez a la semana</td>\n",
       "      <td>76.722182</td>\n",
       "      <td>Quintil 5</td>\n",
       "    </tr>\n",
       "    <tr>\n",
       "      <th>13209</th>\n",
       "      <td>Urbana</td>\n",
       "      <td>ambato</td>\n",
       "      <td>035</td>\n",
       "      <td>009</td>\n",
       "      <td>Panel Z5</td>\n",
       "      <td>Vivienda Tres</td>\n",
       "      <td>Hogar Uno</td>\n",
       "      <td>Persona 2</td>\n",
       "      <td>Mujer</td>\n",
       "      <td>58</td>\n",
       "      <td>...</td>\n",
       "      <td>La familia</td>\n",
       "      <td>La salud</td>\n",
       "      <td>Cristiana Católica</td>\n",
       "      <td>8</td>\n",
       "      <td>Por costumbre</td>\n",
       "      <td>En momentos de sufrimiento</td>\n",
       "      <td>En momentos de felicidad</td>\n",
       "      <td>Una vez a la semana</td>\n",
       "      <td>76.722182</td>\n",
       "      <td>Quintil 5</td>\n",
       "    </tr>\n",
       "    <tr>\n",
       "      <th>13210</th>\n",
       "      <td>Urbana</td>\n",
       "      <td>ambato</td>\n",
       "      <td>035</td>\n",
       "      <td>009</td>\n",
       "      <td>Panel Z5</td>\n",
       "      <td>Vivienda Tres</td>\n",
       "      <td>Hogar Uno</td>\n",
       "      <td>Persona 3</td>\n",
       "      <td>Mujer</td>\n",
       "      <td>21</td>\n",
       "      <td>...</td>\n",
       "      <td>El conocimiento / información</td>\n",
       "      <td>La salud</td>\n",
       "      <td>Cristiana Católica</td>\n",
       "      <td>8</td>\n",
       "      <td>Para agradecer</td>\n",
       "      <td>En momentos de sufrimiento</td>\n",
       "      <td>En momentos de felicidad</td>\n",
       "      <td>Una vez a la semana</td>\n",
       "      <td>76.722182</td>\n",
       "      <td>Quintil 5</td>\n",
       "    </tr>\n",
       "  </tbody>\n",
       "</table>\n",
       "<p>13211 rows × 23 columns</p>\n",
       "</div>"
      ],
      "text/plain": [
       "         area  ciudad zona sector    panelm       vivienda      hogar  \\\n",
       "0      Urbana  cuenca  001    006  Panel W6   Vivienda Uno  Hogar Uno   \n",
       "1      Urbana  cuenca  001    006  Panel W6   Vivienda Uno  Hogar Uno   \n",
       "2      Urbana  cuenca  001    006  Panel W6   Vivienda Uno  Hogar Uno   \n",
       "3      Urbana  cuenca  001    006  Panel W6   Vivienda Uno  Hogar Uno   \n",
       "4      Urbana  cuenca  001    006  Panel W6   Vivienda Dos  Hogar Uno   \n",
       "...       ...     ...  ...    ...       ...            ...        ...   \n",
       "13206  Urbana  ambato  035    009  Panel Z5   Vivienda Dos  Hogar Uno   \n",
       "13207  Urbana  ambato  035    009  Panel Z5   Vivienda Dos  Hogar Uno   \n",
       "13208  Urbana  ambato  035    009  Panel Z5  Vivienda Tres  Hogar Uno   \n",
       "13209  Urbana  ambato  035    009  Panel Z5  Vivienda Tres  Hogar Uno   \n",
       "13210  Urbana  ambato  035    009  Panel Z5  Vivienda Tres  Hogar Uno   \n",
       "\n",
       "             p01     p02 p03  ...                          RE01B        RE01C  \\\n",
       "0      Persona 1   Mujer  76  ...                       La salud  La religión   \n",
       "1      Persona 2   Mujer  34  ...                     La familia   El trabajo   \n",
       "2      Persona 3  Hombre  35  ...                     La familia   El trabajo   \n",
       "3      Persona 4  Hombre   0  ...                            NaN          NaN   \n",
       "4      Persona 1  Hombre  40  ...                       La salud   El trabajo   \n",
       "...          ...     ...  ..  ...                            ...          ...   \n",
       "13206  Persona 2   Mujer  26  ...  El conocimiento / información     La salud   \n",
       "13207  Persona 3  Hombre   6  ...                            NaN          NaN   \n",
       "13208  Persona 1  Hombre  57  ...                     La familia     La salud   \n",
       "13209  Persona 2   Mujer  58  ...                     La familia     La salud   \n",
       "13210  Persona 3   Mujer  21  ...  El conocimiento / información     La salud   \n",
       "\n",
       "                     RE02 RE03                                 RE04A  \\\n",
       "0      Cristiana Católica    7            En momentos de sufrimiento   \n",
       "1      Cristiana Católica    7  Cuando necesita una ayuda específica   \n",
       "2      Cristiana Católica    6            En momentos de sufrimiento   \n",
       "3                     NaN  NaN                                   NaN   \n",
       "4      Cristiana Católica    7            En momentos de sufrimiento   \n",
       "...                   ...  ...                                   ...   \n",
       "13206  Cristiana Católica    7            En momentos de sufrimiento   \n",
       "13207                 NaN  NaN                                   NaN   \n",
       "13208  Cristiana Católica    8    Cuando ora/reza por otras personas   \n",
       "13209  Cristiana Católica    8                         Por costumbre   \n",
       "13210  Cristiana Católica    8                        Para agradecer   \n",
       "\n",
       "                                             RE04B                     RE04C  \\\n",
       "0             Cuando necesita una ayuda específica  En momentos de felicidad   \n",
       "1       Al reflexionar sobre el sentido de la vida            Para agradecer   \n",
       "2      Durante los días de festividades religiosas            Para agradecer   \n",
       "3                                              NaN                       NaN   \n",
       "4               Cuando ora/reza por otras personas            Para agradecer   \n",
       "...                                            ...                       ...   \n",
       "13206           Cuando ora/reza por otras personas            Para agradecer   \n",
       "13207                                          NaN                       NaN   \n",
       "13208                   En momentos de sufrimiento  En momentos de felicidad   \n",
       "13209                   En momentos de sufrimiento  En momentos de felicidad   \n",
       "13210                   En momentos de sufrimiento  En momentos de felicidad   \n",
       "\n",
       "                        RE05        fexp  Quintiles  \n",
       "0        Una vez a la semana  136.920802  Quintil 3  \n",
       "1             Una vez al mes  136.920802  Quintil 3  \n",
       "2             Una vez al mes  136.920802  Quintil 3  \n",
       "3                        NaN  136.920802  Quintil 3  \n",
       "4        Una vez a la semana  136.920802  Quintil 5  \n",
       "...                      ...         ...        ...  \n",
       "13206  Más de una vez al mes   76.722182  Quintil 3  \n",
       "13207                    NaN   76.722182  Quintil 3  \n",
       "13208    Una vez a la semana   76.722182  Quintil 5  \n",
       "13209    Una vez a la semana   76.722182  Quintil 5  \n",
       "13210    Una vez a la semana   76.722182  Quintil 5  \n",
       "\n",
       "[13211 rows x 23 columns]"
      ]
     },
     "execution_count": 17,
     "metadata": {},
     "output_type": "execute_result"
    }
   ],
   "source": [
    "#Thie file contains the data collected by the National Institute of Stadistics and Census of Ecuador.\n",
    "inec = pd.read_stata(pathout + '20140162_INEC.dta')\n",
    "inec"
   ]
  },
  {
   "cell_type": "markdown",
   "metadata": {},
   "source": [
    "\n",
    "## Introduction "
   ]
  },
  {
   "cell_type": "markdown",
   "metadata": {},
   "source": [
    "A big percentage of the world's population has religious beliefs. There is evidence that suggests that depending on the beliefs that people have, the way in which they can help a society to develop more efficiently may vary. That hypothesis considers that when peolpe combine their faith with their daily production activities, the economic situation of their context might be ameliorated; however, is it important to keep in mind that, as we all know, correlation does not necessarily imply causality. To study the impact that economy has on religion, the author addressed how the Ecuadorian government gives a monthly economic benefit to the poorest families in the country, with the eligibility for the transfer depending on the household’s score on a wealth index. In Ecuador, 72% percent of its population, which consists of approximately 14 million of people, lives in urban areas. The author found that the families that earn the highest incomes tend to visit the church more frequently than those with lower incomes. Furthermore, these families were found more likely to be part of the Catholic Church or an Evangelical community. Although in the last years many investigators have been interested in how religion can affect economy, and have conducted studies regarding the topic, there is not much information or studies that support this analysis. \n",
    "For the author, the main questions to answer with his investigation are:\n",
    "* Do people become more or less religious as they become richer? \n",
    "* Do people change their religion as they become richer? \n",
    "* Do people increase or decrease church attendance as they become richer?"
   ]
  },
  {
   "cell_type": "markdown",
   "metadata": {},
   "source": [
    "Considering the secularization thesis, which predicts that as societies increase their level of development, religion gradually loses its importance (Stark and Bainbridge 1985), economists have used cross-country studies to uncover a negative association between per capita gross domestic product (GDP) and the measurement of religiousness (Barro and McCleary 2003 and McCleary and Barro 2006a, 2006b). The Latin American context is especially interesting for studying the effects of income on religiousness due to the fact that the region has recently experienced a dramatic shift away from Catholicism towards Evangelical denominations (Levine 2009). An interesting example of the relationship between economy and religion in South America is Ecuador, since the government of that country started to provide US$35 to the poorest families in the year 2003, and a survey that was carried out in 2009 evidenced that there had been a big change in the population that received the benefit; the composition and variable weights of the wealth index had changed. Therefore, while some of the households that did not use to receive the benefit in the past suddenly gained it, some previous recipients suddenly lost it. In order to analyze and understand the impact of the social policy in Ecuadorian families, the author uses a discontinuous regression and asks himself how could income affect denomination and church attendance. As a primary hyphothesis, the author suggests that religious participation and church membership are quite elastic with respect to income."
   ]
  },
  {
   "cell_type": "markdown",
   "metadata": {},
   "source": [
    "Let's see how Thomas Busser finds new results about this interesting investigation."
   ]
  },
  {
   "cell_type": "markdown",
   "metadata": {},
   "source": [
    "## 1. Context and Cash Transfer Program"
   ]
  },
  {
   "cell_type": "markdown",
   "metadata": {},
   "source": [
    "Empirical evidence suggests that as a country develops, religion loses importance."
   ]
  },
  {
   "cell_type": "markdown",
   "metadata": {},
   "source": [
    "Ecuador is a lower middle income country with high poverty levels and considerable inequality. According to the National Institute of Statistics (INEC), 76% of the population describes itselt as Catholic and 10% belongs to a non-Catholic community. Starting in 2003, the Ecuadorian government implemented an allowance called \"Bono de Desarrollo Humano\" (BDH), intended to give an economic help to the poorer people of the country, defined by a wealth index called SELBEN. The index is based on variables which analyze different characteristics of Ecuadorian families; for instance, it considers the household assets and their access to a water service, toilet and shower. \n",
    "In 2009 the distribution of the benefit changed and some of the families that had been receiving US$35 each month for more than 5 years, stopped being beneficiaries of the policy."
   ]
  },
  {
   "cell_type": "code",
   "execution_count": 4,
   "metadata": {
    "scrolled": true
   },
   "outputs": [
    {
     "data": {
      "text/html": [
       "<div>\n",
       "<style scoped>\n",
       "    .dataframe tbody tr th:only-of-type {\n",
       "        vertical-align: middle;\n",
       "    }\n",
       "\n",
       "    .dataframe tbody tr th {\n",
       "        vertical-align: top;\n",
       "    }\n",
       "\n",
       "    .dataframe thead th {\n",
       "        text-align: right;\n",
       "    }\n",
       "</style>\n",
       "<table border=\"1\" class=\"dataframe\">\n",
       "  <thead>\n",
       "    <tr style=\"text-align: right;\">\n",
       "      <th>attendance</th>\n",
       "      <th>never</th>\n",
       "      <th>only for special occasions</th>\n",
       "      <th>less than once a month</th>\n",
       "      <th>once a month</th>\n",
       "      <th>2 to 3 times a month</th>\n",
       "      <th>once a week</th>\n",
       "      <th>2 to 3 times a week</th>\n",
       "      <th>4 to 6 times a week</th>\n",
       "      <th>every day</th>\n",
       "    </tr>\n",
       "    <tr>\n",
       "      <th>denomination</th>\n",
       "      <th></th>\n",
       "      <th></th>\n",
       "      <th></th>\n",
       "      <th></th>\n",
       "      <th></th>\n",
       "      <th></th>\n",
       "      <th></th>\n",
       "      <th></th>\n",
       "      <th></th>\n",
       "    </tr>\n",
       "  </thead>\n",
       "  <tbody>\n",
       "    <tr>\n",
       "      <th>catholic</th>\n",
       "      <td>100</td>\n",
       "      <td>268</td>\n",
       "      <td>116</td>\n",
       "      <td>294</td>\n",
       "      <td>456</td>\n",
       "      <td>609</td>\n",
       "      <td>90</td>\n",
       "      <td>29</td>\n",
       "      <td>9</td>\n",
       "    </tr>\n",
       "    <tr>\n",
       "      <th>non-catholic christian</th>\n",
       "      <td>25</td>\n",
       "      <td>26</td>\n",
       "      <td>19</td>\n",
       "      <td>26</td>\n",
       "      <td>45</td>\n",
       "      <td>93</td>\n",
       "      <td>116</td>\n",
       "      <td>54</td>\n",
       "      <td>48</td>\n",
       "    </tr>\n",
       "    <tr>\n",
       "      <th>jewish</th>\n",
       "      <td>1</td>\n",
       "      <td>0</td>\n",
       "      <td>0</td>\n",
       "      <td>0</td>\n",
       "      <td>1</td>\n",
       "      <td>0</td>\n",
       "      <td>0</td>\n",
       "      <td>0</td>\n",
       "      <td>0</td>\n",
       "    </tr>\n",
       "    <tr>\n",
       "      <th>atheist/none</th>\n",
       "      <td>53</td>\n",
       "      <td>0</td>\n",
       "      <td>0</td>\n",
       "      <td>0</td>\n",
       "      <td>0</td>\n",
       "      <td>0</td>\n",
       "      <td>0</td>\n",
       "      <td>0</td>\n",
       "      <td>0</td>\n",
       "    </tr>\n",
       "    <tr>\n",
       "      <th>other</th>\n",
       "      <td>13</td>\n",
       "      <td>16</td>\n",
       "      <td>3</td>\n",
       "      <td>4</td>\n",
       "      <td>5</td>\n",
       "      <td>36</td>\n",
       "      <td>51</td>\n",
       "      <td>23</td>\n",
       "      <td>16</td>\n",
       "    </tr>\n",
       "  </tbody>\n",
       "</table>\n",
       "</div>"
      ],
      "text/plain": [
       "attendance              never  only for special occasions  \\\n",
       "denomination                                                \n",
       "catholic                  100                         268   \n",
       "non-catholic christian     25                          26   \n",
       "jewish                      1                           0   \n",
       "atheist/none               53                           0   \n",
       "other                      13                          16   \n",
       "\n",
       "attendance              less than once a month  once a month  \\\n",
       "denomination                                                   \n",
       "catholic                                   116           294   \n",
       "non-catholic christian                      19            26   \n",
       "jewish                                       0             0   \n",
       "atheist/none                                 0             0   \n",
       "other                                        3             4   \n",
       "\n",
       "attendance              2 to 3 times a month  once a week  \\\n",
       "denomination                                                \n",
       "catholic                                 456          609   \n",
       "non-catholic christian                    45           93   \n",
       "jewish                                     1            0   \n",
       "atheist/none                               0            0   \n",
       "other                                      5           36   \n",
       "\n",
       "attendance              2 to 3 times a week  4 to 6 times a week  every day  \n",
       "denomination                                                                 \n",
       "catholic                                 90                   29          9  \n",
       "non-catholic christian                  116                   54         48  \n",
       "jewish                                    0                    0          0  \n",
       "atheist/none                              0                    0          0  \n",
       "other                                    51                   23         16  "
      ]
     },
     "execution_count": 4,
     "metadata": {},
     "output_type": "execute_result"
    }
   ],
   "source": [
    "deominination=pd.crosstab(busser.denomination, busser.attendance)\n",
    "deominination"
   ]
  },
  {
   "cell_type": "markdown",
   "metadata": {},
   "source": [
    "## 2. Empirical Strategy"
   ]
  },
  {
   "cell_type": "markdown",
   "metadata": {},
   "source": [
    "Yi = α + δTi + f(s) + Xiβ + λEi + εi. \n",
    "Busser included the following variables in his regression discontinuity design, which is an instrumental variables approach:\n",
    "* Y, which is the outcome variable.\n",
    "* T, which is a binary indicator for receiving the transfer.\n",
    "* E, which is a binary indicator for having received the transfer before the change. \n",
    "* T, which is instrumented by Z. \n",
    "* δ, which gives the causal effect of receiving the cash transfer on the outcome."
   ]
  },
  {
   "cell_type": "markdown",
   "metadata": {},
   "source": [
    "The collected data comes from poor and rich households from Guayaquil, Quito and Santo Domingo. Households were divided into four groups: The ones that never stopped receiving the benefit (always winners), the ones that never received the benefit (always losers), the ones that did not used to receive the benefit in the past and started receiving it later (winners) and the ones that stopped receiving the benefit (losers). The households were randomly selected for a survey made by professional interviewers, who were instructed to conduct the interview only to the housewife. This survey was made 2 years after the 2009 shift in the beneficiaries occurred. \n",
    "Throughout the data collection period, it was possible to collect data from 2,645 households. \n",
    "The author explains that the estimation strategy would only be valid if the respondants did not know in which position of the SELBEN Index their household was. Neither household size, nor the age of the respondant and their years of schooling varied significantly. The implemented startegy here consisted in obtaining significant results and comparing them with the ones in the INEC survey. "
   ]
  },
  {
   "cell_type": "markdown",
   "metadata": {},
   "source": [
    "The percentages of the distribution in the data of the four groups are presented below:"
   ]
  },
  {
   "cell_type": "code",
   "execution_count": 5,
   "metadata": {},
   "outputs": [
    {
     "data": {
      "text/plain": [
       "always-winners    25.482042\n",
       "winners           25.330813\n",
       "losers            24.688091\n",
       "always-losers     24.499055\n",
       "Name: group, dtype: float64"
      ]
     },
     "execution_count": 5,
     "metadata": {},
     "output_type": "execute_result"
    }
   ],
   "source": [
    "groups=busser.group.value_counts(normalize=True) * 100\n",
    "groups"
   ]
  },
  {
   "cell_type": "markdown",
   "metadata": {},
   "source": [
    "Number of observations"
   ]
  },
  {
   "cell_type": "code",
   "execution_count": 23,
   "metadata": {},
   "outputs": [
    {
     "name": "stdout",
     "output_type": "stream",
     "text": [
      "  Number of observations  Observations\n",
      "0         Always winners           674\n",
      "1                Winners           670\n",
      "2                 Losers           653\n",
      "3          Always losers           648\n"
     ]
    }
   ],
   "source": [
    "j = {'Number of observations':pd.Series(['Always winners','Winners','Losers','Always losers']),\n",
    "   'Observations':pd.Series([674,670,653,648])}\n",
    "df = pd.DataFrame(j)\n",
    "print (df)"
   ]
  },
  {
   "cell_type": "code",
   "execution_count": 3,
   "metadata": {},
   "outputs": [
    {
     "name": "stdout",
     "output_type": "stream",
     "text": [
      "        Control variables  Discontinuity at threshold\n",
      "0          Househols size                      -0.042\n",
      "1        Age of responder                      -0.887\n",
      "2  Schooling of responder                       0.227\n"
     ]
    }
   ],
   "source": [
    "z = {'Control variables':pd.Series(['Househols size','Age of responder','Schooling of responder']),\n",
    "   'Discontinuity at threshold':pd.Series([-0.042,-0.887,0.227])}\n",
    "df = pd.DataFrame(z)\n",
    "print (df)"
   ]
  },
  {
   "cell_type": "markdown",
   "metadata": {},
   "source": [
    "## 3. Data"
   ]
  },
  {
   "cell_type": "markdown",
   "metadata": {},
   "source": [
    "In this section the main focus is to compare the results in the collected data with the national Ecuadorian averages. The author's survey contains information about the answers of the household to these questions:\n",
    "* Which religion does your family have? \n",
    "* How religious is your family (ona scale from 0 to 10)? \n",
    "* How often do you attend a religious service? "
   ]
  },
  {
   "cell_type": "markdown",
   "metadata": {},
   "source": [
    "Sample Data:"
   ]
  },
  {
   "cell_type": "code",
   "execution_count": 6,
   "metadata": {},
   "outputs": [
    {
     "name": "stdout",
     "output_type": "stream",
     "text": [
      "       Religion  Observations  Percent\n",
      "0      Catholic         1.971    74.52\n",
      "1  Non-Catholic       452.000    17.09\n",
      "2        Jewish         2.000     0.08\n",
      "3       Atheist        53.000     2.00\n",
      "4         Other       167.000     6.31\n"
     ]
    }
   ],
   "source": [
    "d = {'Religion':pd.Series(['Catholic','Non-Catholic','Jewish','Atheist', 'Other']),\n",
    "   'Observations':pd.Series([1.971,452,2,53,167]),\n",
    "   'Percent':pd.Series([74.52,17.09,0.08,2.00,6.31])}\n",
    "df = pd.DataFrame(d)\n",
    "print (df)\n"
   ]
  },
  {
   "cell_type": "code",
   "execution_count": 7,
   "metadata": {},
   "outputs": [
    {
     "name": "stdout",
     "output_type": "stream",
     "text": [
      "       Service attendance  Observations  Percent\n",
      "0                   Never           192     7.26\n",
      "1  Only special occasions           310    11.72\n",
      "2  Less than once a month           138     5.22\n",
      "3            Once a month           324    12.25\n",
      "4    2 to 3 times a month           507    19.17\n",
      "5             once a week           738    27.90\n",
      "6     2 to 3 times a week           257     9.72\n",
      "7     4 to 6 times a week           106     4.01\n",
      "8               every day            73     2.76\n"
     ]
    }
   ],
   "source": [
    "c = {'Service attendance':pd.Series(['Never','Only special occasions','Less than once a month','Once a month', '2 to 3 times a month','once a week','2 to 3 times a week','4 to 6 times a week','every day']),\n",
    "   'Observations':pd.Series([192,310,138,324,507,738,257,106,73]),\n",
    "   'Percent':pd.Series([7.26,11.72,5.22,12.25,19.17,27.90,9.72,4.01,2.76])}\n",
    "df = pd.DataFrame(c)\n",
    "print (df)\n"
   ]
  },
  {
   "cell_type": "markdown",
   "metadata": {},
   "source": [
    "INEC Data"
   ]
  },
  {
   "cell_type": "code",
   "execution_count": 8,
   "metadata": {},
   "outputs": [
    {
     "name": "stdout",
     "output_type": "stream",
     "text": [
      "       Religion  Observations  Percent\n",
      "0      Catholic         1.971    76.16\n",
      "1  Non-Catholic       452.000    10.04\n",
      "2        Jewish         2.000     0.24\n",
      "3       Atheist        53.000     6.57\n",
      "4         Other       167.000     6.98\n"
     ]
    }
   ],
   "source": [
    "h = {'Religion':pd.Series(['Catholic','Non-Catholic','Jewish','Atheist', 'Other']),\n",
    "   'Observations':pd.Series([1.971,452,2,53,167]),\n",
    "   'Percent':pd.Series([76.16,10.04,0.24,6.57,6.98])}\n",
    "df = pd.DataFrame(h)\n",
    "print (df)"
   ]
  },
  {
   "cell_type": "code",
   "execution_count": 9,
   "metadata": {},
   "outputs": [
    {
     "name": "stdout",
     "output_type": "stream",
     "text": [
      "       Service attendance  Observations  Percent\n",
      "0                   Never           192     8.20\n",
      "1  Only special occasions           310    14.25\n",
      "2             Once a year           138     7.63\n",
      "3            Once a month           324    22.58\n",
      "4  More than once a month           507     7.74\n",
      "5             Once a week           738    33.51\n",
      "6   More than once a week           257     6.09\n",
      "7     4 to 6 times a week           106      NaN\n",
      "8               every day            73      NaN\n"
     ]
    }
   ],
   "source": [
    "s = {'Service attendance':pd.Series(['Never','Only special occasions','Once a year','Once a month', 'More than once a month','Once a week','More than once a week','4 to 6 times a week','every day']),\n",
    "   'Observations':pd.Series([192,310,138,324,507,738,257,106,73]),\n",
    "   'Percent':pd.Series([8.20,14.25,7.63,22.58,7.74,33.51,6.09])}\n",
    "df = pd.DataFrame(s)\n",
    "print (df)\n"
   ]
  },
  {
   "cell_type": "code",
   "execution_count": 10,
   "metadata": {},
   "outputs": [
    {
     "data": {
      "text/plain": [
       "<matplotlib.collections.PathCollection at 0x7f8cd2f60790>"
      ]
     },
     "execution_count": 10,
     "metadata": {},
     "output_type": "execute_result"
    },
    {
     "data": {
      "image/png": "[encoded data removed]",
      "text/plain": [
       "<Figure size 432x288 with 1 Axes>"
      ]
     },
     "metadata": {
      "needs_background": "light"
     },
     "output_type": "display_data"
    }
   ],
   "source": [
    "plt.scatter(busser.denomination, busser.attendance)"
   ]
  },
  {
   "cell_type": "markdown",
   "metadata": {},
   "source": [
    "The author found that in the data he collected, 75% of the households were Catholics, 17% were Evangelicals, 6% belonged to other religions and the remaining 2% were atheists. Additionally, 44% of the households went to the church at least once a week, while 19% went either only for special occasions or never. Last but no least, the average of the question \"How religious is yor family?\" was 7/10. Comparing these results with the ones from the INEC survey, we can evidence that the outcomes are significantly similar and that their differences are present mainly because the author's survey contained more Catholic people and less atheists than those included in the INEC survey. "
   ]
  },
  {
   "cell_type": "markdown",
   "metadata": {},
   "source": [
    "The included households in the author's data had a monthly expenditure of US$297 on average, which means that the allowance that the government gave to them, covers only the 11.8% of families' expenses."
   ]
  },
  {
   "cell_type": "code",
   "execution_count": 5,
   "metadata": {},
   "outputs": [
    {
     "data": {
      "text/plain": [
       "11.784511784511784"
      ]
     },
     "execution_count": 5,
     "metadata": {},
     "output_type": "execute_result"
    }
   ],
   "source": [
    "(35*100)/297"
   ]
  },
  {
   "cell_type": "markdown",
   "metadata": {},
   "source": [
    "## 4. Results"
   ]
  },
  {
   "cell_type": "markdown",
   "metadata": {},
   "source": [
    "This table shows the results obtained from the Sample data, comparing those from Evangelicals with those of the rest of the studied population."
   ]
  },
  {
   "cell_type": "code",
   "execution_count": 11,
   "metadata": {},
   "outputs": [
    {
     "name": "stdout",
     "output_type": "stream",
     "text": [
      "  Church attendance by denomination-percentages  Evangelical   Rest\n",
      "0                                         Never         5.53   7.62\n",
      "1                        Only special occasions         5.75  12.95\n",
      "2                                   Once a year         5.20   5.43\n",
      "3                                  Once a month         5.75  13.59\n",
      "4                        More than once a month         9.96  21.07\n",
      "5                                   Once a week        20.58  29.41\n",
      "6                         More than once a week        25.66   6.43\n",
      "7                           4 to 6 times a week        11.95   2.37\n",
      "8                                     Every day        10.62   1.14\n",
      "9                          Attendance per month         9.27   3.30\n"
     ]
    }
   ],
   "source": [
    "t = {'Church attendance by denomination-percentages':pd.Series(['Never','Only special occasions','Once a year','Once a month', 'More than once a month','Once a week','More than once a week','4 to 6 times a week','Every day','Attendance per month']),\n",
    "   'Evangelical':pd.Series([5.53,5.75,5.20,5.75,9.96,20.58,25.66,11.95,10.62,9.27]),\n",
    "   'Rest':pd.Series([7.62,12.95,5.43,13.59,21.07,29.41,6.43,2.37,1.14,3.30])}\n",
    "df = pd.DataFrame(t)\n",
    "print (df)"
   ]
  },
  {
   "cell_type": "markdown",
   "metadata": {},
   "source": [
    "This table contains the results of the INEC data."
   ]
  },
  {
   "cell_type": "code",
   "execution_count": 12,
   "metadata": {},
   "outputs": [
    {
     "name": "stdout",
     "output_type": "stream",
     "text": [
      "  Church attendance by denomination-percentages  Observations  Percent\n",
      "0                                         Never          1.02     9.03\n",
      "1                        Only special occasions          5.19    15.21\n",
      "2                                   Once a year          3.05     8.24\n",
      "3                                  Once a month          9.98    24.04\n",
      "4                        More than once a month          4.99     8.13\n",
      "5                                   Once a week         41.45    32.57\n",
      "6                         More than once a week         34.32     2.78\n",
      "7                           4 to 6 times a week           NaN      NaN\n",
      "8                                     every day           NaN      NaN\n"
     ]
    }
   ],
   "source": [
    "b = {'Church attendance by denomination-percentages':pd.Series(['Never','Only special occasions','Once a year','Once a month', 'More than once a month','Once a week','More than once a week','4 to 6 times a week','every day']),\n",
    "   'Observations':pd.Series([1.02,5.19,3.05,9.98,4.99,41.45,34.32]),\n",
    "   'Percent':pd.Series([9.03,15.21,8.24,24.04,8.13,32.57,2.78])}\n",
    "df = pd.DataFrame(b)\n",
    "print (df)"
   ]
  },
  {
   "cell_type": "code",
   "execution_count": 13,
   "metadata": {},
   "outputs": [
    {
     "name": "stdout",
     "output_type": "stream",
     "text": [
      "                    Results    (1)    (2)    (3)    (4)    (5)    (6)  \\\n",
      "0         Church attendance  1.727  1.722  1.524  1.872  1.863  1.634   \n",
      "1         Being evangelical  0.066  0.064  0.034  0.071  0.069  0.037   \n",
      "2  Self rated religiousness  0.270  0.256  0.313  0.278  0.267  0.350   \n",
      "\n",
      "   Observations  \n",
      "0         2.645  \n",
      "1         2.645  \n",
      "2         2.645  \n"
     ]
    }
   ],
   "source": [
    "r = {'Results':pd.Series(['Church attendance','Being evangelical','Self rated religiousness']),\n",
    "   '(1)':pd.Series([1.727,0.066,0.270]), \n",
    "   '(2)':pd.Series([1.722,0.064,0.256]),\n",
    "   '(3)':pd.Series([1.524,0.034,0.313]),\n",
    "   '(4)':pd.Series([1.872,0.071,0.278]),\n",
    "   '(5)':pd.Series([1.863,0.069,0.267]),\n",
    "   '(6)':pd.Series([1.634,0.037,0.350]),\n",
    "   'Observations':pd.Series([2.645,2.645,2.645])}\n",
    "df = pd.DataFrame(r)\n",
    "print (df)"
   ]
  },
  {
   "cell_type": "markdown",
   "metadata": {},
   "source": [
    "As we can see in the regression table above, the households that received the benefit from the government are 6.5% more likely to be Evengilicals than those who did were beneficiaries. A very interesting result that the author remarks is that the church attendance grew 1.7 times in families that received the extra US$35. That observation leads us think that having extra income increases people's motivation to go to church. Additionally, the author shows that the average Evangelical family attends the church 9.3 times per month, compared to the 3.3 times found for the rest of the sample. If we assume that joining an Evangelical church increases the monthly attendance by six visits, this leads to 0.065 × 6 = 0.39 additional visits. "
   ]
  },
  {
   "cell_type": "markdown",
   "metadata": {},
   "source": [
    "As I stated before, a big percentage of the households in the collected data believed in a particular type or religion, and it is known that believers tend to be more attracted to worshiping activities. The author found robust results showing that an increse in income does not affect the beliefs that people have, but it does impact the way in which people practice their religion. This positive effect shows that in average the ones that received the benefit tended to assist 3 times more to the church. The new benefit increased their perception of the advantages of participating in church activities, which can be interpreted as an increase in their social status. The author concludes the results by saying that money incentives believers to participate more in religious activities, which means that there is an increase in church attendants derived from the extra income. Finally, he affirms that it would be interesting to further address whether higher income makes families more religious or it simply increases their overall participation in social and communal activities."
   ]
  },
  {
   "cell_type": "markdown",
   "metadata": {},
   "source": [
    "## 5. Concluding Remarks"
   ]
  },
  {
   "cell_type": "markdown",
   "metadata": {},
   "source": [
    "* Not much is known about how income affects religiousness at the individual level. \n",
    "* Differences in income have a significant effect on the frequency with which families attend church and on the kind of churches that they attend.\n",
    "* Higher income leads to a higher frequency of religious service attendance and increases the likelihood that a family joins an Evangelical community. \n",
    "* Income does not affect the degree in which a person considers him or herself religious. \n",
    "* The participation and membership on a church resembles a club membership, since they are expensive in terms of money and time, and had a positive income elasticity for the households in the sample."
   ]
  },
  {
   "cell_type": "code",
   "execution_count": null,
   "metadata": {},
   "outputs": [],
   "source": []
  },
  {
   "cell_type": "code",
   "execution_count": null,
   "metadata": {},
   "outputs": [],
   "source": []
  }
 ],
 "metadata": {
  "kernelspec": {
   "display_name": "Python 3",
   "language": "python",
   "name": "python3"
  },
  "language_info": {
   "codemirror_mode": {
    "name": "ipython",
    "version": 3
   },
   "file_extension": ".py",
   "mimetype": "text/x-python",
   "name": "python",
   "nbconvert_exporter": "python",
   "pygments_lexer": "ipython3",
   "version": "3.8.3"
  },
  "nbTranslate": {
   "displayLangs": [
    "*"
   ],
   "hotkey": "alt-t",
   "langInMainMenu": true,
   "sourceLang": "en",
   "targetLang": "fr",
   "useGoogleTranslate": true
  }
 },
 "nbformat": 4,
 "nbformat_minor": 4
}
